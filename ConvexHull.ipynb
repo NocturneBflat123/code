{
 "cells": [
  {
   "cell_type": "code",
   "execution_count": 32,
   "metadata": {},
   "outputs": [
    {
     "name": "stdout",
     "output_type": "stream",
     "text": [
      "300000\n",
      "9000045000050000\n"
     ]
    }
   ],
   "source": [
    "import sys\n",
    "\n",
    "# Hệ số a của các đường thẳng tăng dần\n",
    "class ConvexHull():\n",
    "    \n",
    "    def __init__(self):\n",
    "        self.hull = [] \n",
    "        self.size = 0\n",
    "    \n",
    "\n",
    "    def isPop(self, nextL):\n",
    "        # đường thẳng ở đáy\n",
    "        l1 = self.hull[self.size-1]\n",
    "        # đường thẳng ở sát đáy\n",
    "        l2 = self.hull[self.size-2]\n",
    "        \n",
    "        # đường thẳng ở đáy bị pop ra nếu\n",
    "        return (nextL[1] - l1[1]) * (l1[0] - l2[0]) <= (l1[1] - l2[1]) * (nextL[0] - l1[0])\n",
    "    \n",
    "    # add đt mới \n",
    "    def addLine(self, a, b):\n",
    "        \n",
    "        # Nếu đt sát đáy ko thỏa mãn đk\n",
    "        while self.size > 2 and self.isPop([a, b]):\n",
    "            self.hull.pop()\n",
    "            self.size -= 1\n",
    "        \n",
    "        self.size += 1\n",
    "        self.hull.append([a, b])\n",
    "    \n",
    "    # Tính f(x) ứng với đường thẳng thứ i \n",
    "    def f(self, i, x):\n",
    "        return self.hull[i][0] * x +  self.hull[i][1]\n",
    "    \n",
    "    # Tìm xem với đường thẳng nào thì f(x) max \n",
    "    def find(self, x):\n",
    "        l = -1\n",
    "        r = self.size - 1\n",
    "        \n",
    "        while r - l > 1:\n",
    "            m = int((l + r) / 2)\n",
    "        \n",
    "            if self.f(m, x) <= self.f(m + 1, x):\n",
    "                l = m\n",
    "            else:\n",
    "                r = m\n",
    "        \n",
    "        return self.f(r, x)\n",
    "\n",
    "        \n",
    "hull = ConvexHull()\n",
    "ans  = 0\n",
    "dans = 0\n",
    "        \n",
    "n = int(input())\n",
    "s    = [0] * (n+1)        \n",
    "s[0] =  0\n",
    "        \n",
    "a    = [0]\n",
    "#a.extend(list(map(int, input().split())))\n",
    "a.extend([i for i in range(1, n+1)])\n",
    "    \n",
    "for i in range(1, n+1):\n",
    "    s[i] = s[i - 1] + a[i]\n",
    "    ans += a[i] * i\n",
    "    \n",
    "\n",
    "for r in range(2, n+1): \n",
    "    hull.addLine(r - 1, -s[r - 2])\n",
    "    dans = max(dans, hull.find(a[r]) + s[r - 1] - a[r] * r)\n",
    "    \n",
    "hull.size = 0\n",
    "\n",
    "for l in range(n-1, 0, -1):\n",
    "    hull.addLine(-(l + 1), -s[l + 1])\n",
    "    dans = max(dans, hull.find(-a[l]) + s[l] - a[l] * l)\n",
    "    \n",
    "\n",
    "print(ans + dans)"
   ]
  },
  {
   "cell_type": "code",
   "execution_count": 20,
   "metadata": {},
   "outputs": [
    {
     "name": "stdout",
     "output_type": "stream",
     "text": [
      "\n"
     ]
    }
   ],
   "source": [
    "from sys import stdin, stdout\n",
    "a = stdin.readline()\n",
    "print(a)"
   ]
  },
  {
   "cell_type": "code",
   "execution_count": null,
   "metadata": {},
   "outputs": [],
   "source": []
  }
 ],
 "metadata": {
  "kernelspec": {
   "display_name": "Python 3",
   "language": "python",
   "name": "python3"
  },
  "language_info": {
   "codemirror_mode": {
    "name": "ipython",
    "version": 3
   },
   "file_extension": ".py",
   "mimetype": "text/x-python",
   "name": "python",
   "nbconvert_exporter": "python",
   "pygments_lexer": "ipython3",
   "version": "3.6.5"
  }
 },
 "nbformat": 4,
 "nbformat_minor": 2
}
