{
 "cells": [
  {
   "cell_type": "code",
   "execution_count": 4,
   "metadata": {},
   "outputs": [
    {
     "name": "stdout",
     "output_type": "stream",
     "text": [
      "['D', 'A', 'S'] 3\n",
      "['E', 'A', 'S'] 5\n",
      "['F', 'C', 'S'] 2\n",
      "['D', 'E', 'B', 'S'] 3\n",
      "['F', 'E', 'B', 'S'] 3\n",
      "['F', 'E', 'C', 'S'] 1\n",
      "17\n",
      "['S', 'A', 'B', 'C', 'E'] ['D', 'F', 'T']\n"
     ]
    }
   ],
   "source": [
    "# Max flow Dinic\n",
    "from collections import deque\n",
    "\n",
    "class Dinic():\n",
    "    def __init__(self, listEdge, s, t):\n",
    "        self.s = s\n",
    "        self.t = t\n",
    "        self.graph    = {}\n",
    "        self.maxCap   = 1000000\n",
    "        # dict các node lân cận\n",
    "       \n",
    "        # e[0]: from,  e[1]: to,  e[2]: dung luong  \n",
    "        for e in listEdge:\n",
    "            \n",
    "            if e[0] not in self.graph:\n",
    "                self.graph[e[0]] = []\n",
    "             \n",
    "            if e[1] not in self.graph:\n",
    "                self.graph[e[1]] = []\n",
    "                                   #to     #cap   #reveser edge\n",
    "            self.graph[e[0]].append([e[1], e[2],  len(self.graph[e[1]])])\n",
    "            self.graph[e[1]].append([e[0],    0,  len(self.graph[e[0]])-1])\n",
    "            \n",
    "        self.N = len(self.graph.keys())\n",
    "    \n",
    "    def bfs(self):\n",
    "        self.dist    = {}\n",
    "        self.dist[self.s] = 0\n",
    "        self.curIter = {node:[] for node in self.graph}\n",
    "        \n",
    "        Q = deque([self.s])\n",
    "        \n",
    "        while(len(Q) > 0):\n",
    "            cur = Q.popleft()\n",
    "            \n",
    "            for index,e in enumerate(self.graph[cur]):\n",
    "                # Chỉ add vào các node kế tiếp nếu dung lượng cạnh > 0 và chưa được visit trước đấy \n",
    "                if e[1] > 0 and e[0] not in self.dist:\n",
    "                    self.dist[e[0]] = self.dist[cur] + 1\n",
    "                    # add vào danh sách node kế tiếp của node hiện tại\n",
    "                    self.curIter[cur].append(index)\n",
    "                    Q.append(e[0])\n",
    "        \n",
    "        \n",
    "    def findPath(self, cur, f):\n",
    "        if cur == self.t:\n",
    "            return f\n",
    "        \n",
    "        while len(self.curIter[cur]) > 0:\n",
    "            indexEdge    = self.curIter[cur][-1]\n",
    "            nextNode     = self.graph[cur][indexEdge][0]\n",
    "            remainCap    = self.graph[cur][indexEdge][1]\n",
    "            indexPreEdge = self.graph[cur][indexEdge][2]\n",
    "            \n",
    "            if remainCap > 0 and self.dist[nextNode] > self.dist[cur]:\n",
    "                #self.next[cur] = indexEdge\n",
    "                flow = self.findPath(nextNode,  min(f, remainCap))\n",
    "                \n",
    "                if flow > 0:\n",
    "                    self.path.append(cur)\n",
    "                    self.graph[cur][indexEdge][1]            -= flow\n",
    "                    self.graph[nextNode][indexPreEdge][1]    += flow\n",
    "                    if cur == self.s:\n",
    "                        print(self.path, flow)\n",
    "                    return flow \n",
    "                #else:\n",
    "                    #self.path.pop()\n",
    "            self.curIter[cur].pop() \n",
    "            \n",
    "        return 0\n",
    "    \n",
    "    def maxFlow(self):\n",
    "        maxflow = 0\n",
    "        \n",
    "        while(True):\n",
    "            self.bfs()\n",
    "            \n",
    "            if self.t not in self.dist:\n",
    "                break\n",
    "                \n",
    "            while(True):\n",
    "                self.path    = []\n",
    "                f = self.findPath(self.s, self.maxCap)\n",
    "                #print('iter', self.curIter)\n",
    "                if f == 0:\n",
    "                    break\n",
    "                maxflow += f\n",
    "            \n",
    "        return maxflow    \n",
    "    \n",
    "    # Tìm tập node thuộc S và T\n",
    "    # sau khi đã tìm được max flow\n",
    "    def residualBfs(self):\n",
    "        Q = deque([self.s])\n",
    "        side = {self.s:'s'}\n",
    "        \n",
    "        while(len(Q) > 0):\n",
    "            cur = Q.popleft()\n",
    "            \n",
    "            for index,e in enumerate(self.graph[cur]):\n",
    "                if e[1] > 0 and e[0] not in side:\n",
    "                    Q.append(e[0])\n",
    "                    side[e[0]] = 's'\n",
    "        \n",
    "        S = []\n",
    "        T = [] \n",
    "        for x in self.graph:\n",
    "            if x in side:\n",
    "                S.append(x)\n",
    "            else:\n",
    "                T.append(x)\n",
    "        return S, T        \n",
    "        \n",
    "#listEdge = [[0,1,6], [0,2,6], [1,3,4], [1,4,3], [2,3,3], [2,4,4], [3,5,5], [4,5,5]]\n",
    "listEdge = [['S','A',8],['S','B',7],['S','C',4],['A','B',2],['B','C',5],['A','D',3],['A','E',9],['B','E',6],['C','E',7],['C','F',2],['E','D',3], ['E','F',4],['D','T',9],['E','T',5],['F','T',8]]\n",
    "g = Dinic(listEdge, 'S', 'T')\n",
    "print(g.maxFlow())\n",
    "S, T = g.residualBfs()\n",
    "print(S, T)"
   ]
  },
  {
   "cell_type": "code",
   "execution_count": 2,
   "metadata": {},
   "outputs": [
    {
     "name": "stdout",
     "output_type": "stream",
     "text": [
      "deque([8, 9])\n"
     ]
    }
   ],
   "source": [
    "from collections import deque\n",
    "\n",
    "a = deque([1,2])\n",
    "\n",
    "for i in range(10):\n",
    "    a.append(i)\n",
    "    a.popleft()\n",
    "print(a)    "
   ]
  },
  {
   "cell_type": "code",
   "execution_count": 1,
   "metadata": {},
   "outputs": [
    {
     "name": "stdout",
     "output_type": "stream",
     "text": [
      "{0: 0, 1: 1, 2: 2, 3: 3, 4: 4, 5: 5, 6: 6, 7: 7, 8: 8, 9: 9}\n",
      "{0: 0, 2: 2, 3: 3, 4: 4, 5: 5, 6: 6, 7: 7, 8: 8, 9: 9}\n"
     ]
    }
   ],
   "source": [
    "d = {i:i for i in range(10)}\n",
    "print(d)\n",
    "del d[1]\n",
    "print(d)"
   ]
  },
  {
   "cell_type": "code",
   "execution_count": null,
   "metadata": {},
   "outputs": [],
   "source": []
  }
 ],
 "metadata": {
  "kernelspec": {
   "display_name": "Python 3",
   "language": "python",
   "name": "python3"
  },
  "language_info": {
   "codemirror_mode": {
    "name": "ipython",
    "version": 3
   },
   "file_extension": ".py",
   "mimetype": "text/x-python",
   "name": "python",
   "nbconvert_exporter": "python",
   "pygments_lexer": "ipython3",
   "version": "3.6.5"
  }
 },
 "nbformat": 4,
 "nbformat_minor": 2
}
